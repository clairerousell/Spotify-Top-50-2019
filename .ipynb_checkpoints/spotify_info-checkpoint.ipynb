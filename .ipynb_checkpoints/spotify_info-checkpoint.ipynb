{
 "cells": [
  {
   "cell_type": "code",
   "execution_count": 9,
   "metadata": {},
   "outputs": [
    {
     "name": "stdout",
     "output_type": "stream",
     "text": [
      "this list has 50 items in it\n"
     ]
    },
    {
     "data": {
      "text/plain": [
       "OrderedDict([('', '10'),\n",
       "             ('Track.Name', 'bad guy'),\n",
       "             ('Artist.Name', 'Billie Eilish'),\n",
       "             ('Genre', 'electropop'),\n",
       "             ('Beats.Per.Minute', '135'),\n",
       "             ('Energy', '43'),\n",
       "             ('Danceability', '70'),\n",
       "             ('Loudness..dB..', '-11'),\n",
       "             ('Liveness', '10'),\n",
       "             ('Valence.', '56'),\n",
       "             ('Length.', '194'),\n",
       "             ('Acousticness..', '33'),\n",
       "             ('Speechiness.', '38'),\n",
       "             ('Popularity', '95')])"
      ]
     },
     "execution_count": 9,
     "metadata": {},
     "output_type": "execute_result"
    }
   ],
   "source": [
    "import csv\n",
    "spotify_info = list(csv.DictReader(open('top50.csv','r'),delimiter=','))\n",
    "\n",
    "# print the first five lines\n",
    "print(\"this list has\",len(spotify_info),\"items in it\")\n",
    "spotify_info[9]  # the dictionary at position 9 is for bad guy by Billie Eilish\n"
   ]
  }
 ],
 "metadata": {
  "kernelspec": {
   "display_name": "Python 3",
   "language": "python",
   "name": "python3"
  },
  "language_info": {
   "codemirror_mode": {
    "name": "ipython",
    "version": 3
   },
   "file_extension": ".py",
   "mimetype": "text/x-python",
   "name": "python",
   "nbconvert_exporter": "python",
   "pygments_lexer": "ipython3",
   "version": "3.7.4"
  }
 },
 "nbformat": 4,
 "nbformat_minor": 4
}
