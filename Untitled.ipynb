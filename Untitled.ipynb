{
 "cells": [
  {
   "cell_type": "code",
   "execution_count": null,
   "metadata": {},
   "outputs": [
    {
     "name": "stdout",
     "output_type": "stream",
     "text": [
      "this list has 50 items in it\n",
      "This code gives the user a playlist of songs from the Top 50 most popular songs on Spotify from 2019\n"
     ]
    },
    {
     "name": "stdin",
     "output_type": "stream",
     "text": [
      "Which genre of music are you looking for? pop\n"
     ]
    },
    {
     "name": "stdout",
     "output_type": "stream",
     "text": [
      "Here's your playlist based on the genre you specified:\n",
      "Señorita --- Shawn Mendes\n",
      "boyfriend (with Social House) --- Ariana Grande\n",
      "Beautiful People (feat. Khalid) --- Ed Sheeran\n",
      "I Don't Care (with Justin Bieber) --- Ed Sheeran\n",
      "How Do You Sleep? --- Sam Smith\n",
      "bad guy --- Billie Eilish\n",
      "Loco Contigo (feat. J. Balvin & Tyga) --- DJ Snake\n",
      "Someone You Loved --- Lewis Capaldi\n",
      "Otro Trago - Remix --- Sech\n",
      "No Guidance (feat. Drake) --- Chris Brown\n",
      "Piece Of Your Heart --- MEDUZA\n",
      "bad guy (with Justin Bieber) --- Billie Eilish\n",
      "If I Can't Have You --- Shawn Mendes\n",
      "Dance Monkey --- Tones and I\n",
      "7 rings --- Ariana Grande\n",
      "Never Really Over --- Katy Perry\n",
      "Otro Trago --- Sech\n",
      "Antisocial (with Travis Scott) --- Ed Sheeran\n",
      "fuck, i'm lonely (with Anne-Marie) - from “13 Reasons Why: Season 3” --- Lauv\n",
      "You Need To Calm Down --- Taylor Swift\n",
      "Shallow --- Lady Gaga\n",
      "Talk --- Khalid\n",
      "Cross Me (feat. Chance the Rapper & PnB Rock) --- Ed Sheeran\n",
      "Sorry, no song from our list is in that genre.\n"
     ]
    }
   ],
   "source": [
    "import csv\n",
    "\n",
    "spotify_info = list(csv.DictReader(open('top50.csv','r'),delimiter=','))\n",
    "\n",
    "print(\"this list has\",len(spotify_info),\"items in it\")\n",
    "##spotify_info[9]  # the dictionary at position 9 is for bad guy by Billie Eilish\n",
    "\n",
    "\n",
    "# Printing song information\n",
    "def printSong(d):\n",
    "    print(d['Track.Name'],'---',d['Artist.Name']) \n",
    "##printSong(spotify_info[9])\n",
    "\n",
    "def printSongList(ds):\n",
    "    for d in ds:\n",
    "        printSong(d)\n",
    "##printSongList(spotify_info[:5])\n",
    "\n",
    "pop = [d for d in spotify_info if \"pop\" in d['Genre']]\n",
    "trap = [d for d in spotify_info if \"trap\" in d['Genre']]\n",
    "rap = [d for d in spotify_info if \"rap\" in d['Genre']]\n",
    "hip_hop = [d for d in spotify_info if \"hip hop\" in d['Genre']]\n",
    "edm = [d for d in spotify_info if \"edm\" in d['Genre']]\n",
    "latin = [d for d in spotify_info if \"latin\" in d['Genre']]\n",
    "\n",
    "medium_tempo = [d for d in spotify_info if 84>int(d['Beats.Per.Minute'])>119]\n",
    "fast_tempo= [d for d in spotify_info if 120>int(d['Beats.Per.Minute'])>155]\n",
    "very_fast_tempo = [d for d in spotify_info if 156>int(d['Beats.Per.Minute'])>191]\n",
    "\n",
    "# using user inputs to create the list of songs\n",
    "print(\"This code gives the user a playlist of songs from the Top 50 most popular songs on Spotify from 2019\")\n",
    "genre=input(\"Which genre of music are you looking for?\")\n",
    "print(\"Here's your playlist based on the genre you specified:\")\n",
    "if \"pop\" in genre:\n",
    "    printSongList(pop)\n",
    "if \"trap\" in genre:\n",
    "    printSongList(trap)\n",
    "if \"rap\" in genre:\n",
    "    printSongList(rap)\n",
    "if \"latin\" in genre:\n",
    "    printSongList(pop)\n",
    "if \"edm\" in genre:\n",
    "    printSongList(edm)\n",
    "if \"hip hop\" in genre:\n",
    "    printSongList(hip_hop)\n",
    "if \"hiphop\" in genre:\n",
    "    printSongList(hip_hop)\n",
    "else:\n",
    "    print(\"Sorry, no song from our list is in that genre.\")\n",
    "\n",
    "song_speed=input(\"Do you like [1] medium tempo songs, [2] fast songs, or [3] very fast songs?\")\n",
    "print(\"Here is your playlist based on the tempo you specified:\")\n",
    "if song_speed==\"1\":\n",
    "    printSongList(medium_tempo)\n",
    "if song_speed==\"2\":\n",
    "    printSongList(fast_tempo)\n",
    "if song_speed==\"3\":\n",
    "    printSongList(very_fast_tempo)"
   ]
  },
  {
   "cell_type": "code",
   "execution_count": null,
   "metadata": {},
   "outputs": [],
   "source": []
  }
 ],
 "metadata": {
  "kernelspec": {
   "display_name": "Python 3",
   "language": "python",
   "name": "python3"
  },
  "language_info": {
   "codemirror_mode": {
    "name": "ipython",
    "version": 3
   },
   "file_extension": ".py",
   "mimetype": "text/x-python",
   "name": "python",
   "nbconvert_exporter": "python",
   "pygments_lexer": "ipython3",
   "version": "3.7.4"
  }
 },
 "nbformat": 4,
 "nbformat_minor": 4
}
